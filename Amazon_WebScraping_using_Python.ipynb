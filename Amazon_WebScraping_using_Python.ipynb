{
 "cells": [
  {
   "cell_type": "code",
   "execution_count": 1,
   "id": "228676aa-8f06-4924-919e-ee79bf22efa8",
   "metadata": {},
   "outputs": [],
   "source": [
    "# IMPORT LIBRARIES\n",
    "from bs4 import BeautifulSoup\n",
    "import requests\n",
    "import time\n",
    "import datetime\n",
    "import smtplib\n",
    "import csv\n",
    "import datetime\n",
    "import pandas as pd"
   ]
  },
  {
   "cell_type": "code",
   "execution_count": 2,
   "id": "3d260598-586b-4c68-8cb7-5fb7a20d06f6",
   "metadata": {},
   "outputs": [
    {
     "name": "stdout",
     "output_type": "stream",
     "text": [
      "\n",
      "                    Anime Stylish Lucky Cloud Pattern Holiday Hawaiian T-Shirt Summer Beach Short Sleeve Shirt Elevate Your Fashion for Men Women\n",
      "                   \n",
      "$29.89\n"
     ]
    }
   ],
   "source": [
    "# CONNECTING TO THE WEBSITE AND PULLING THE DATA \n",
    "#URL = 'https://www.amazon.com/Costume-T-Shirt-Crewneck-Cartoon-Cosplay/dp/B0CN36J2PB/ref=sr_1_1_sspa?dib=eyJ2IjoiMSJ9.CtTqms-2ICkM5BJmH3lw_KG5_w2fX7OuRWF80UuJ1XrKxo90ajNQNBRvRWQPrQW83nxqULwFOd8aBpwBx21c6qCN0vl98qwfZ5ggc3HPvO9AkH6epeuQosxfIPzfgpfmEolrxMvP8EdkBtjJYdqScGZHbqyM6k8WhDILTuhiL0CIji4ukk6TpqvaRkC6KmsA1l7EOl1DaMYx9Zv-QgyEBD9er8rf_D7AUmUcAJEm8KTNuwIpqDRpVmnu7yb_EiF8cBAE6ebg5vy150lp2HyULP9hFh_0D5h16SOxH9DSZPI.1kBTLjub0j1_nYI9QVpmzsRcDqtp5MLjlfe6ER5EbAg&dib_tag=se&keywords=anime+t+shirts+for+men&qid=1716955360&sr=8-1-spons&sp_csd=d2lkZ2V0TmFtZT1zcF9hdGY&psc=1'\n",
    "URL1 = 'https://www.amazon.com/Anime-Stylish-Cloud-Pattern-Hawaiian/dp/B0CJC6DTH9/ref=sr_1_2_sspa?dib=eyJ2IjoiMSJ9.CtTqms-2ICkM5BJmH3lw_KG5_w2fX7OuRWF80UuJ1XrKxo90ajNQNBRvRWQPrQW83nxqULwFOd8aBpwBx21c6qCN0vl98qwfZ5ggc3HPvO9AkH6epeuQosxfIPzfgpfmEolrxMvP8EdkBtjJYdqScGZHbqyM6k8WhDILTuhiL0CIji4ukk6TpqvaRkC6KmsA1l7EOl1DaMYx9Zv-QgyEBD9er8rf_D7AUmUcAJEm8KTNuwIpqDRpVmnu7yb_EiF8cBAE6ebg5vy150lp2HyULP9hFh_0D5h16SOxH9DSZPI.1kBTLjub0j1_nYI9QVpmzsRcDqtp5MLjlfe6ER5EbAg&dib_tag=se&keywords=anime+t+shirts+for+men&qid=1716955360&sr=8-2-spons&sp_csd=d2lkZ2V0TmFtZT1zcF9hdGY&psc=1'\n",
    "headers = {\"User-Agent\": \"Mozilla/5.0 (Windows NT 10.0; Win64; x64) AppleWebKit/537.36 (KHTML, like Gecko) Chrome/78.0.3904.108 Safari/537.36\", \"Accept-Encoding\":\"gzip, deflate\", \"Accept\":\"text/html,application/xhtml+xml,application/xml;q=0.9,*/*;q=0.8\", \"DNT\":\"1\",\"Connection\":\"close\", \"Upgrade-Insecure-Requests\":\"1\"}\n",
    "\n",
    "page = requests.get(URL1, headers=headers)\n",
    "\n",
    "soup1 = BeautifulSoup(page.content, \"html.parser\")\n",
    "\n",
    "soup2 = BeautifulSoup(soup1.prettify(), \"html.parser\")\n",
    "\n",
    "title = soup2.find(id='productTitle').get_text()\n",
    "price = soup2.find(class_ = \"a-offscreen\").get_text(strip = True)\n",
    "\n",
    "\n",
    "print(title)\n",
    "print(price)"
   ]
  },
  {
   "cell_type": "code",
   "execution_count": 3,
   "id": "e5a67a53-a110-4e92-8915-6b7d35d391d2",
   "metadata": {},
   "outputs": [
    {
     "name": "stdout",
     "output_type": "stream",
     "text": [
      "2024-05-30\n"
     ]
    }
   ],
   "source": [
    "#price.strip()[1:]\n",
    "#title.strip()\n",
    "\n",
    "##################################################################\n",
    "# CREATING A TIMESTAMP TO TRACK WHEN THE DATA WAS COLLECTED  \n",
    "date = datetime.date.today()\n",
    "print(date)"
   ]
  },
  {
   "cell_type": "code",
   "execution_count": 4,
   "id": "4bee8461-f51c-4867-8e8b-044fd957fcbc",
   "metadata": {},
   "outputs": [],
   "source": [
    "##################################################################\n",
    "# CREATING A CSV FILE AND WRITING HEADERS & DATA IN THE FILE  \n",
    "\n",
    "header = ['TITLE','PRICE', 'DATE']\n",
    "data = [title, price, date]\n",
    "\n",
    "\n",
    "with open('Amazon_WebScraping_Dataset.csv', 'w', newline='', encoding='UTF8') as f:\n",
    "    writer = csv.writer(f)\n",
    "    writer.writerow(header)\n",
    "    writer.writerow(data)"
   ]
  },
  {
   "cell_type": "code",
   "execution_count": 5,
   "id": "1e52af39-67c9-4e38-99ca-283defe20661",
   "metadata": {},
   "outputs": [
    {
     "name": "stdout",
     "output_type": "stream",
     "text": [
      "                                               TITLE   PRICE        DATE\n",
      "0  \\n                    Anime Stylish Lucky Clou...  $29.89  2024-05-30\n"
     ]
    }
   ],
   "source": [
    "df = pd.read_csv(r'C:\\Users\\lenovo\\Amazon_WebScraping_Dataset.csv')\n",
    "print(df)"
   ]
  },
  {
   "cell_type": "code",
   "execution_count": 6,
   "id": "118c02d4-5bda-4616-b30c-c34c327fb122",
   "metadata": {},
   "outputs": [],
   "source": [
    "def price_Check():\n",
    "    \n",
    "    #URL = 'https://www.amazon.com/Costume-T-Shirt-Crewneck-Cartoon-Cosplay/dp/B0CN36J2PB/ref=sr_1_1_sspa?dib=eyJ2IjoiMSJ9.CtTqms-2ICkM5BJmH3lw_KG5_w2fX7OuRWF80UuJ1XrKxo90ajNQNBRvRWQPrQW83nxqULwFOd8aBpwBx21c6qCN0vl98qwfZ5ggc3HPvO9AkH6epeuQosxfIPzfgpfmEolrxMvP8EdkBtjJYdqScGZHbqyM6k8WhDILTuhiL0CIji4ukk6TpqvaRkC6KmsA1l7EOl1DaMYx9Zv-QgyEBD9er8rf_D7AUmUcAJEm8KTNuwIpqDRpVmnu7yb_EiF8cBAE6ebg5vy150lp2HyULP9hFh_0D5h16SOxH9DSZPI.1kBTLjub0j1_nYI9QVpmzsRcDqtp5MLjlfe6ER5EbAg&dib_tag=se&keywords=anime+t+shirts+for+men&qid=1716955360&sr=8-1-spons&sp_csd=d2lkZ2V0TmFtZT1zcF9hdGY&psc=1'\n",
    "    URL1 = 'https://www.amazon.com/Anime-Stylish-Cloud-Pattern-Hawaiian/dp/B0CJC6DTH9/ref=sr_1_2_sspa?dib=eyJ2IjoiMSJ9.CtTqms-2ICkM5BJmH3lw_KG5_w2fX7OuRWF80UuJ1XrKxo90ajNQNBRvRWQPrQW83nxqULwFOd8aBpwBx21c6qCN0vl98qwfZ5ggc3HPvO9AkH6epeuQosxfIPzfgpfmEolrxMvP8EdkBtjJYdqScGZHbqyM6k8WhDILTuhiL0CIji4ukk6TpqvaRkC6KmsA1l7EOl1DaMYx9Zv-QgyEBD9er8rf_D7AUmUcAJEm8KTNuwIpqDRpVmnu7yb_EiF8cBAE6ebg5vy150lp2HyULP9hFh_0D5h16SOxH9DSZPI.1kBTLjub0j1_nYI9QVpmzsRcDqtp5MLjlfe6ER5EbAg&dib_tag=se&keywords=anime+t+shirts+for+men&qid=1716955360&sr=8-2-spons&sp_csd=d2lkZ2V0TmFtZT1zcF9hdGY&psc=1'\n",
    "    headers = {\"User-Agent\": \"Mozilla/5.0 (Windows NT 10.0; Win64; x64) AppleWebKit/537.36 (KHTML, like Gecko) Chrome/78.0.3904.108 Safari/537.36\", \"Accept-Encoding\":\"gzip, deflate\", \"Accept\":\"text/html,application/xhtml+xml,application/xml;q=0.9,*/*;q=0.8\", \"DNT\":\"1\",\"Connection\":\"close\", \"Upgrade-Insecure-Requests\":\"1\"}\n",
    "\n",
    "    page = requests.get(URL1, headers=headers)\n",
    "\n",
    "    soup1 = BeautifulSoup(page.content, \"html.parser\")\n",
    "\n",
    "    soup2 = BeautifulSoup(soup1.prettify(), \"html.parser\")\n",
    "\n",
    "    title = soup2.find(id='productTitle').get_text()\n",
    "    price = soup2.find(class_ = \"a-offscreen\").get_text(strip = True)\n",
    "\n",
    "\n",
    "    print(title)\n",
    "    print(price)\n",
    "\n",
    "    import datetime\n",
    "\n",
    "    date = datetime.date.today()\n",
    "    print(date)\n",
    "\n",
    "    import csv\n",
    "\n",
    "    header = ['TITLE','PRICE', 'DATE']\n",
    "    data = [title, price, date]\n",
    "\n",
    "\n",
    "    with open('Amazon_WebScraping_Dataset.csv', 'w', newline='', encoding='UTF8') as f:\n",
    "        writer = csv.writer(f)\n",
    "        writer.writerow(data)\n",
    "        \n",
    "    "
   ]
  },
  {
   "cell_type": "code",
   "execution_count": null,
   "id": "1a166c64-0837-4acb-a4cc-b4aff8f34b64",
   "metadata": {},
   "outputs": [
    {
     "name": "stdout",
     "output_type": "stream",
     "text": [
      "\n",
      "                    Anime Stylish Lucky Cloud Pattern Holiday Hawaiian T-Shirt Summer Beach Short Sleeve Shirt Elevate Your Fashion for Men Women\n",
      "                   \n",
      "$29.89\n",
      "2024-05-30\n"
     ]
    }
   ],
   "source": [
    "while(True):\n",
    "    price_Check()\n",
    "    time.sleep(86400)"
   ]
  },
  {
   "cell_type": "code",
   "execution_count": null,
   "id": "582b391f-1310-4320-a2f4-b07f33a54792",
   "metadata": {},
   "outputs": [],
   "source": [
    "df = pd.read_csv(r'C:\\Users\\lenovo\\Amazon_WebScraping_Dataset.csv')\n"
   ]
  },
  {
   "cell_type": "code",
   "execution_count": null,
   "id": "67c4edc5-4c76-452c-bdd1-d53dcf279e39",
   "metadata": {},
   "outputs": [],
   "source": [
    "df"
   ]
  },
  {
   "cell_type": "code",
   "execution_count": null,
   "id": "f6a854e0-22fc-4a9b-a796-5dad7a2c3bf8",
   "metadata": {},
   "outputs": [],
   "source": []
  }
 ],
 "metadata": {
  "kernelspec": {
   "display_name": "Python 3 (ipykernel)",
   "language": "python",
   "name": "python3"
  },
  "language_info": {
   "codemirror_mode": {
    "name": "ipython",
    "version": 3
   },
   "file_extension": ".py",
   "mimetype": "text/x-python",
   "name": "python",
   "nbconvert_exporter": "python",
   "pygments_lexer": "ipython3",
   "version": "3.11.7"
  }
 },
 "nbformat": 4,
 "nbformat_minor": 5
}
