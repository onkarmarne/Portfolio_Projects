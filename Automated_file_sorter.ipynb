{
 "cells": [
  {
   "cell_type": "code",
   "execution_count": 17,
   "id": "7b8aa34e-4cc3-4be6-b1f3-be04ef3d836b",
   "metadata": {},
   "outputs": [],
   "source": [
    "import os, shutil"
   ]
  },
  {
   "cell_type": "code",
   "execution_count": 18,
   "id": "0cc64497-681e-4e3c-a578-e85b9ad2466b",
   "metadata": {},
   "outputs": [],
   "source": [
    "path = r\"C:/Users/lenovo/Automatic_File_Sorter_using_Python/\""
   ]
  },
  {
   "cell_type": "code",
   "execution_count": 19,
   "id": "9e477da1-a651-4e33-8032-06cb74acf4b0",
   "metadata": {},
   "outputs": [],
   "source": [
    "file_name = os.listdir(path) "
   ]
  },
  {
   "cell_type": "code",
   "execution_count": 20,
   "id": "3f080162-32a7-4ae8-835e-5f75ed4817b3",
   "metadata": {},
   "outputs": [],
   "source": [
    "folder_names = ['csv files', 'image files', 'text files']\n",
    "\n",
    "for loop in range(0,3):\n",
    "    if not os.path.exists(path + folder_names[loop]):\n",
    "        os.makedirs(path + folder_names[loop])\n",
    "\n",
    "for file in file_name:\n",
    "    if \".csv\" in file and not os.path.exists(path + 'csv files/' + file):\n",
    "        shutil.move(path + file, path + 'csv files/' + file)\n",
    "    elif \".jpg\" in file and not os.path.exists(path + 'image files/' + file):\n",
    "        shutil.move(path + file, path + 'image files/' + file)\n",
    "    elif \".txt\" in file and not os.path.exists(path + 'text files/' + file):\n",
    "        shutil.move(path + file, path + 'text files/' + file)\n",
    "    "
   ]
  },
  {
   "cell_type": "code",
   "execution_count": null,
   "id": "1608c12b-14c1-4ff9-b64d-6ec81a676d17",
   "metadata": {},
   "outputs": [],
   "source": []
  }
 ],
 "metadata": {
  "kernelspec": {
   "display_name": "Python 3 (ipykernel)",
   "language": "python",
   "name": "python3"
  },
  "language_info": {
   "codemirror_mode": {
    "name": "ipython",
    "version": 3
   },
   "file_extension": ".py",
   "mimetype": "text/x-python",
   "name": "python",
   "nbconvert_exporter": "python",
   "pygments_lexer": "ipython3",
   "version": "3.11.7"
  }
 },
 "nbformat": 4,
 "nbformat_minor": 5
}
